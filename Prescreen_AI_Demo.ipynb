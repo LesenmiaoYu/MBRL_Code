{
  "nbformat": 4,
  "nbformat_minor": 0,
  "metadata": {
    "colab": {
      "provenance": []
    },
    "kernelspec": {
      "name": "python3",
      "display_name": "Python 3"
    },
    "language_info": {
      "name": "python"
    }
  },
  "cells": [
    {
      "cell_type": "code",
      "source": [
        "!pip install openai==0.28"
      ],
      "metadata": {
        "colab": {
          "base_uri": "https://localhost:8080/"
        },
        "id": "IGVx1Fcy7Mzz",
        "outputId": "bf0c3430-0b53-471b-833a-cd68919c0c5b"
      },
      "execution_count": null,
      "outputs": [
        {
          "output_type": "stream",
          "name": "stdout",
          "text": [
            "Collecting openai==0.28\n",
            "  Downloading openai-0.28.0-py3-none-any.whl.metadata (13 kB)\n",
            "Requirement already satisfied: requests>=2.20 in /usr/local/lib/python3.11/dist-packages (from openai==0.28) (2.32.3)\n",
            "Requirement already satisfied: tqdm in /usr/local/lib/python3.11/dist-packages (from openai==0.28) (4.67.1)\n",
            "Requirement already satisfied: aiohttp in /usr/local/lib/python3.11/dist-packages (from openai==0.28) (3.11.12)\n",
            "Requirement already satisfied: charset-normalizer<4,>=2 in /usr/local/lib/python3.11/dist-packages (from requests>=2.20->openai==0.28) (3.4.1)\n",
            "Requirement already satisfied: idna<4,>=2.5 in /usr/local/lib/python3.11/dist-packages (from requests>=2.20->openai==0.28) (3.10)\n",
            "Requirement already satisfied: urllib3<3,>=1.21.1 in /usr/local/lib/python3.11/dist-packages (from requests>=2.20->openai==0.28) (2.3.0)\n",
            "Requirement already satisfied: certifi>=2017.4.17 in /usr/local/lib/python3.11/dist-packages (from requests>=2.20->openai==0.28) (2025.1.31)\n",
            "Requirement already satisfied: aiohappyeyeballs>=2.3.0 in /usr/local/lib/python3.11/dist-packages (from aiohttp->openai==0.28) (2.4.6)\n",
            "Requirement already satisfied: aiosignal>=1.1.2 in /usr/local/lib/python3.11/dist-packages (from aiohttp->openai==0.28) (1.3.2)\n",
            "Requirement already satisfied: attrs>=17.3.0 in /usr/local/lib/python3.11/dist-packages (from aiohttp->openai==0.28) (25.1.0)\n",
            "Requirement already satisfied: frozenlist>=1.1.1 in /usr/local/lib/python3.11/dist-packages (from aiohttp->openai==0.28) (1.5.0)\n",
            "Requirement already satisfied: multidict<7.0,>=4.5 in /usr/local/lib/python3.11/dist-packages (from aiohttp->openai==0.28) (6.1.0)\n",
            "Requirement already satisfied: propcache>=0.2.0 in /usr/local/lib/python3.11/dist-packages (from aiohttp->openai==0.28) (0.2.1)\n",
            "Requirement already satisfied: yarl<2.0,>=1.17.0 in /usr/local/lib/python3.11/dist-packages (from aiohttp->openai==0.28) (1.18.3)\n",
            "Downloading openai-0.28.0-py3-none-any.whl (76 kB)\n",
            "\u001b[2K   \u001b[90m━━━━━━━━━━━━━━━━━━━━━━━━━━━━━━━━━━━━━━━━\u001b[0m \u001b[32m76.5/76.5 kB\u001b[0m \u001b[31m1.0 MB/s\u001b[0m eta \u001b[36m0:00:00\u001b[0m\n",
            "\u001b[?25hInstalling collected packages: openai\n",
            "  Attempting uninstall: openai\n",
            "    Found existing installation: openai 1.61.1\n",
            "    Uninstalling openai-1.61.1:\n",
            "      Successfully uninstalled openai-1.61.1\n",
            "Successfully installed openai-0.28.0\n"
          ]
        }
      ]
    },
    {
      "cell_type": "code",
      "source": [
        "import openai\n",
        "API_Key = ''\n",
        "openai.api_key = API_Key"
      ],
      "metadata": {
        "id": "8hOKjg4t7Fhz"
      },
      "execution_count": null,
      "outputs": []
    },
    {
      "cell_type": "code",
      "execution_count": null,
      "metadata": {
        "id": "L7nUcWv57Dci"
      },
      "outputs": [],
      "source": [
        "# Define get completion\n",
        "def get_completion(prompt, model=\"gpt-3.5-turbo\"):\n",
        "    # Create a list with one message dictionary\n",
        "    messages = [{\"role\": \"user\", \"content\": prompt}]\n",
        "\n",
        "    # Call the OpenAI API\n",
        "    response = openai.ChatCompletion.create(model=model,\n",
        "                                              messages=messages,\n",
        "                                              temperature=0)\n",
        "    # Return the content\n",
        "    return response.choices[0].message.content"
      ]
    },
    {
      "cell_type": "code",
      "source": [
        "prompt = f\"\"\"\n",
        "You are an AI assistant helping researchers analyze text responses to assess a participant's competitiveness level.\n",
        "Your task is to evaluate the response and assign a **competitiveness score from 1 to 7**, where:\n",
        "- **1** = Not competitive at all\n",
        "- **7** = Highly competitive\n",
        "\n",
        "### **Guidelines for Scoring:**\n",
        "- **Scores 6-7**: The response strongly emphasizes outperforming others, winning, or being the best.\n",
        "- **Scores 4-5**: The response acknowledges competition but balances it with self-improvement or collaboration.\n",
        "- **Scores 2-3**: The response prioritizes personal performance over competition.\n",
        "- **Score 1**: The response indicates no competitiveness or disregard for comparisons with others.\n",
        "\n",
        "---\n",
        "### **Examples:**\n",
        "Question Asked to the participant: How do you feel when you compare your work performance to your peers? Do you focus on outperforming them, or is it not a priority?\n",
        "Example response from participant A1: i don't care too much about my peers, as long as I can do my work well then I am happy; (expect score low 1-3)\n",
        "Example response from participant A2: When I do something, i try to do it to the best of my ability; it means a lot to for me to do well; (expect score high 5-7)\n",
        "Example response from participant A3: As long as I am not lagging behind my peers, I feel okay & that’s like my standard. (expect score medium 4)\n",
        "\n",
        "### Text to analyze:\n",
        "Question: How do you feel when you compare your work performance to your peers? Do you focus on outperforming them, or is it not a priority?\n",
        "Response: I do fairly well when comparing my work to theirs;\n",
        "Score expected: [Answer]\n",
        "\"\"\"\n",
        "\n",
        "# get responses\n",
        "response = get_completion(prompt)\n",
        "print(response)\n",
        "print(\"\\n\\n\")"
      ],
      "metadata": {
        "colab": {
          "base_uri": "https://localhost:8080/"
        },
        "id": "3UirqGei7XRo",
        "outputId": "00231466-652d-436d-9781-97c40c8a6195"
      },
      "execution_count": null,
      "outputs": [
        {
          "output_type": "stream",
          "name": "stdout",
          "text": [
            "Score: 3\n",
            "\n",
            "Explanation: The response indicates that the individual does fairly well when comparing their work to their peers, suggesting a focus on personal performance rather than solely on outperforming others. This aligns with a competitiveness score of 3, where personal performance is prioritized over competition.\n",
            "\n",
            "\n",
            "\n"
          ]
        }
      ]
    }
  ]
}